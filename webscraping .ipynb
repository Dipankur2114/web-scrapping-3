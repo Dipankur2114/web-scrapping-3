{
 "cells": [
  {
   "cell_type": "code",
   "execution_count": 18,
   "id": "7805f126",
   "metadata": {},
   "outputs": [],
   "source": [
    "import pandas as pd\n",
    "import selenium\n",
    "from selenium import webdriver\n",
    "from selenium.webdriver.common.by import By\n",
    "from selenium.webdriver.common.keys import Keys\n",
    "from selenium.webdriver.support.ui import WebDriverWait\n",
    "from selenium.webdriver.support import expected_conditions as EC\n",
    "import time"
   ]
  },
  {
   "cell_type": "code",
   "execution_count": 19,
   "id": "14c2103c",
   "metadata": {},
   "outputs": [],
   "source": [
    "driver=webdriver.Chrome"
   ]
  },
  {
   "cell_type": "code",
   "execution_count": 20,
   "id": "824a99d2",
   "metadata": {},
   "outputs": [
    {
     "name": "stdout",
     "output_type": "stream",
     "text": [
      "enter your item:guitar\n"
     ]
    }
   ],
   "source": [
    "val=input(\"enter your item:\")"
   ]
  },
  {
   "cell_type": "code",
   "execution_count": null,
   "id": "6857c960",
   "metadata": {},
   "outputs": [],
   "source": [
    "driver=webdriver.Chrome()\n",
    "driver.get(\"https:/www.amazon.in/\")"
   ]
  },
  {
   "cell_type": "code",
   "execution_count": null,
   "id": "1f9d9a03",
   "metadata": {},
   "outputs": [],
   "source": [
    "speaker_tags=driver.find_element(By.XPATH,\"//DIV[@class='nav-search-field']//input\")\n",
    "speaker_tags.send_keys('guitar')\n",
    "search=driver.find_element(By.XPATH,\"//DIV[@class='nav-search-subimt nav-sprite']//span\")\n",
    "search.click()\n",
    "time.sleep()"
   ]
  },
  {
   "cell_type": "code",
   "execution_count": 77,
   "id": "7aeb86d4",
   "metadata": {},
   "outputs": [
    {
     "ename": "NoSuchElementException",
     "evalue": "Message: no such element: Unable to locate element: {\"method\":\"xpath\",\"selector\":\"//a[@class='s-pagination-item s-pagination-next s-pagination-button s-pagination-separator']\"}\n  (Session info: chrome=121.0.6167.187); For documentation on this error, please visit: https://www.selenium.dev/documentation/webdriver/troubleshooting/errors#no-such-element-exception\nStacktrace:\n\tGetHandleVerifier [0x00007FF732D97012+3522402]\n\t(No symbol) [0x00007FF7329B8352]\n\t(No symbol) [0x00007FF732865ABB]\n\t(No symbol) [0x00007FF7328ABF0E]\n\t(No symbol) [0x00007FF7328AC08C]\n\t(No symbol) [0x00007FF7328EE437]\n\t(No symbol) [0x00007FF7328CF09F]\n\t(No symbol) [0x00007FF7328EBDA3]\n\t(No symbol) [0x00007FF7328CEE03]\n\t(No symbol) [0x00007FF73289F4D4]\n\t(No symbol) [0x00007FF7328A05F1]\n\tGetHandleVerifier [0x00007FF732DC9B9D+3730157]\n\tGetHandleVerifier [0x00007FF732E1F02D+4079485]\n\tGetHandleVerifier [0x00007FF732E175D3+4048163]\n\tGetHandleVerifier [0x00007FF732AEA649+718233]\n\t(No symbol) [0x00007FF7329C4A3F]\n\t(No symbol) [0x00007FF7329BFA94]\n\t(No symbol) [0x00007FF7329BFBC2]\n\t(No symbol) [0x00007FF7329AF2E4]\n\tBaseThreadInitThunk [0x00007FFD8B237344+20]\n\tRtlUserThreadStart [0x00007FFD8BAC26B1+33]\n",
     "output_type": "error",
     "traceback": [
      "\u001b[1;31m---------------------------------------------------------------------------\u001b[0m",
      "\u001b[1;31mNoSuchElementException\u001b[0m                    Traceback (most recent call last)",
      "Cell \u001b[1;32mIn[77], line 6\u001b[0m\n\u001b[0;32m      4\u001b[0m \u001b[38;5;28;01mfor\u001b[39;00m i \u001b[38;5;129;01min\u001b[39;00m product_url:\n\u001b[0;32m      5\u001b[0m     product_urls\u001b[38;5;241m.\u001b[39mappend(i\u001b[38;5;241m.\u001b[39mget_attribute(\u001b[38;5;124m'\u001b[39m\u001b[38;5;124mhref\u001b[39m\u001b[38;5;124m'\u001b[39m))\n\u001b[1;32m----> 6\u001b[0m nxt_button \u001b[38;5;241m=\u001b[39m \u001b[43mdriver\u001b[49m\u001b[38;5;241;43m.\u001b[39;49m\u001b[43mfind_element\u001b[49m\u001b[43m(\u001b[49m\u001b[43mBy\u001b[49m\u001b[38;5;241;43m.\u001b[39;49m\u001b[43mXPATH\u001b[49m\u001b[43m,\u001b[49m\u001b[43m \u001b[49m\u001b[38;5;124;43m\"\u001b[39;49m\u001b[38;5;124;43m//a[@class=\u001b[39;49m\u001b[38;5;124;43m'\u001b[39;49m\u001b[38;5;124;43ms-pagination-item s-pagination-next s-pagination-button s-pagination-separator\u001b[39;49m\u001b[38;5;124;43m'\u001b[39;49m\u001b[38;5;124;43m]\u001b[39;49m\u001b[38;5;124;43m\"\u001b[39;49m\u001b[43m)\u001b[49m\n\u001b[0;32m      7\u001b[0m driver\u001b[38;5;241m.\u001b[39mget(nxt_button\u001b[38;5;241m.\u001b[39mget_attribute(\u001b[38;5;124m'\u001b[39m\u001b[38;5;124mhref\u001b[39m\u001b[38;5;124m'\u001b[39m))\n\u001b[0;32m      9\u001b[0m time\u001b[38;5;241m.\u001b[39msleep(\u001b[38;5;241m3\u001b[39m)\n",
      "File \u001b[1;32m~\\anaconda3\\lib\\site-packages\\selenium\\webdriver\\remote\\webdriver.py:741\u001b[0m, in \u001b[0;36mWebDriver.find_element\u001b[1;34m(self, by, value)\u001b[0m\n\u001b[0;32m    738\u001b[0m     by \u001b[38;5;241m=\u001b[39m By\u001b[38;5;241m.\u001b[39mCSS_SELECTOR\n\u001b[0;32m    739\u001b[0m     value \u001b[38;5;241m=\u001b[39m \u001b[38;5;124mf\u001b[39m\u001b[38;5;124m'\u001b[39m\u001b[38;5;124m[name=\u001b[39m\u001b[38;5;124m\"\u001b[39m\u001b[38;5;132;01m{\u001b[39;00mvalue\u001b[38;5;132;01m}\u001b[39;00m\u001b[38;5;124m\"\u001b[39m\u001b[38;5;124m]\u001b[39m\u001b[38;5;124m'\u001b[39m\n\u001b[1;32m--> 741\u001b[0m \u001b[38;5;28;01mreturn\u001b[39;00m \u001b[38;5;28;43mself\u001b[39;49m\u001b[38;5;241;43m.\u001b[39;49m\u001b[43mexecute\u001b[49m\u001b[43m(\u001b[49m\u001b[43mCommand\u001b[49m\u001b[38;5;241;43m.\u001b[39;49m\u001b[43mFIND_ELEMENT\u001b[49m\u001b[43m,\u001b[49m\u001b[43m \u001b[49m\u001b[43m{\u001b[49m\u001b[38;5;124;43m\"\u001b[39;49m\u001b[38;5;124;43musing\u001b[39;49m\u001b[38;5;124;43m\"\u001b[39;49m\u001b[43m:\u001b[49m\u001b[43m \u001b[49m\u001b[43mby\u001b[49m\u001b[43m,\u001b[49m\u001b[43m \u001b[49m\u001b[38;5;124;43m\"\u001b[39;49m\u001b[38;5;124;43mvalue\u001b[39;49m\u001b[38;5;124;43m\"\u001b[39;49m\u001b[43m:\u001b[49m\u001b[43m \u001b[49m\u001b[43mvalue\u001b[49m\u001b[43m}\u001b[49m\u001b[43m)\u001b[49m[\u001b[38;5;124m\"\u001b[39m\u001b[38;5;124mvalue\u001b[39m\u001b[38;5;124m\"\u001b[39m]\n",
      "File \u001b[1;32m~\\anaconda3\\lib\\site-packages\\selenium\\webdriver\\remote\\webdriver.py:347\u001b[0m, in \u001b[0;36mWebDriver.execute\u001b[1;34m(self, driver_command, params)\u001b[0m\n\u001b[0;32m    345\u001b[0m response \u001b[38;5;241m=\u001b[39m \u001b[38;5;28mself\u001b[39m\u001b[38;5;241m.\u001b[39mcommand_executor\u001b[38;5;241m.\u001b[39mexecute(driver_command, params)\n\u001b[0;32m    346\u001b[0m \u001b[38;5;28;01mif\u001b[39;00m response:\n\u001b[1;32m--> 347\u001b[0m     \u001b[38;5;28;43mself\u001b[39;49m\u001b[38;5;241;43m.\u001b[39;49m\u001b[43merror_handler\u001b[49m\u001b[38;5;241;43m.\u001b[39;49m\u001b[43mcheck_response\u001b[49m\u001b[43m(\u001b[49m\u001b[43mresponse\u001b[49m\u001b[43m)\u001b[49m\n\u001b[0;32m    348\u001b[0m     response[\u001b[38;5;124m\"\u001b[39m\u001b[38;5;124mvalue\u001b[39m\u001b[38;5;124m\"\u001b[39m] \u001b[38;5;241m=\u001b[39m \u001b[38;5;28mself\u001b[39m\u001b[38;5;241m.\u001b[39m_unwrap_value(response\u001b[38;5;241m.\u001b[39mget(\u001b[38;5;124m\"\u001b[39m\u001b[38;5;124mvalue\u001b[39m\u001b[38;5;124m\"\u001b[39m, \u001b[38;5;28;01mNone\u001b[39;00m))\n\u001b[0;32m    349\u001b[0m     \u001b[38;5;28;01mreturn\u001b[39;00m response\n",
      "File \u001b[1;32m~\\anaconda3\\lib\\site-packages\\selenium\\webdriver\\remote\\errorhandler.py:229\u001b[0m, in \u001b[0;36mErrorHandler.check_response\u001b[1;34m(self, response)\u001b[0m\n\u001b[0;32m    227\u001b[0m         alert_text \u001b[38;5;241m=\u001b[39m value[\u001b[38;5;124m\"\u001b[39m\u001b[38;5;124malert\u001b[39m\u001b[38;5;124m\"\u001b[39m]\u001b[38;5;241m.\u001b[39mget(\u001b[38;5;124m\"\u001b[39m\u001b[38;5;124mtext\u001b[39m\u001b[38;5;124m\"\u001b[39m)\n\u001b[0;32m    228\u001b[0m     \u001b[38;5;28;01mraise\u001b[39;00m exception_class(message, screen, stacktrace, alert_text)  \u001b[38;5;66;03m# type: ignore[call-arg]  # mypy is not smart enough here\u001b[39;00m\n\u001b[1;32m--> 229\u001b[0m \u001b[38;5;28;01mraise\u001b[39;00m exception_class(message, screen, stacktrace)\n",
      "\u001b[1;31mNoSuchElementException\u001b[0m: Message: no such element: Unable to locate element: {\"method\":\"xpath\",\"selector\":\"//a[@class='s-pagination-item s-pagination-next s-pagination-button s-pagination-separator']\"}\n  (Session info: chrome=121.0.6167.187); For documentation on this error, please visit: https://www.selenium.dev/documentation/webdriver/troubleshooting/errors#no-such-element-exception\nStacktrace:\n\tGetHandleVerifier [0x00007FF732D97012+3522402]\n\t(No symbol) [0x00007FF7329B8352]\n\t(No symbol) [0x00007FF732865ABB]\n\t(No symbol) [0x00007FF7328ABF0E]\n\t(No symbol) [0x00007FF7328AC08C]\n\t(No symbol) [0x00007FF7328EE437]\n\t(No symbol) [0x00007FF7328CF09F]\n\t(No symbol) [0x00007FF7328EBDA3]\n\t(No symbol) [0x00007FF7328CEE03]\n\t(No symbol) [0x00007FF73289F4D4]\n\t(No symbol) [0x00007FF7328A05F1]\n\tGetHandleVerifier [0x00007FF732DC9B9D+3730157]\n\tGetHandleVerifier [0x00007FF732E1F02D+4079485]\n\tGetHandleVerifier [0x00007FF732E175D3+4048163]\n\tGetHandleVerifier [0x00007FF732AEA649+718233]\n\t(No symbol) [0x00007FF7329C4A3F]\n\t(No symbol) [0x00007FF7329BFA94]\n\t(No symbol) [0x00007FF7329BFBC2]\n\t(No symbol) [0x00007FF7329AF2E4]\n\tBaseThreadInitThunk [0x00007FFD8B237344+20]\n\tRtlUserThreadStart [0x00007FFD8BAC26B1+33]\n"
     ]
    }
   ],
   "source": [
    " \n",
    "product_urls = []\n",
    "for i in range(0,4): \n",
    "    product_url = driver.find_elements(By.XPATH,\"//a[@class='a-link-normal']\")\n",
    "    for i in product_url:\n",
    "        product_urls.append(i.get_attribute('href'))\n",
    "    nxt_button = driver.find_element(By.XPATH, \"//a[@class='s-pagination-item s-pagination-next s-pagination-button s-pagination-separator']\")\n",
    "    driver.get(nxt_button.get_attribute('href'))\n",
    "\n",
    "    time.sleep(3)\n",
    "      "
   ]
  },
  {
   "cell_type": "code",
   "execution_count": 78,
   "id": "020354ee",
   "metadata": {},
   "outputs": [
    {
     "data": {
      "text/plain": [
       "61"
      ]
     },
     "execution_count": 78,
     "metadata": {},
     "output_type": "execute_result"
    }
   ],
   "source": [
    "len(product_url)"
   ]
  },
  {
   "cell_type": "code",
   "execution_count": 79,
   "id": "1a15a1e4",
   "metadata": {},
   "outputs": [],
   "source": [
    "product_names = []\n",
    "brand_names = []\n",
    "ratings = []\n",
    "no_ratings = []\n",
    "prices = []\n",
    "exchanges = []\n",
    "del_dates = []\n",
    "avails = []\n",
    "other_details = []\n",
    "links = []"
   ]
  },
  {
   "cell_type": "code",
   "execution_count": 80,
   "id": "d687196e",
   "metadata": {},
   "outputs": [
    {
     "ename": "WebDriverException",
     "evalue": "Message: unknown error: unsupported protocol\n  (Session info: chrome=121.0.6167.187)\nStacktrace:\n\tGetHandleVerifier [0x00007FF732D97012+3522402]\n\t(No symbol) [0x00007FF7329B8352]\n\t(No symbol) [0x00007FF732865ABB]\n\t(No symbol) [0x00007FF73286805E]\n\t(No symbol) [0x00007FF7328EC717]\n\t(No symbol) [0x00007FF7328CF05A]\n\t(No symbol) [0x00007FF7328EBDA3]\n\t(No symbol) [0x00007FF7328CEE03]\n\t(No symbol) [0x00007FF73289F4D4]\n\t(No symbol) [0x00007FF7328A05F1]\n\tGetHandleVerifier [0x00007FF732DC9B9D+3730157]\n\tGetHandleVerifier [0x00007FF732E1F02D+4079485]\n\tGetHandleVerifier [0x00007FF732E175D3+4048163]\n\tGetHandleVerifier [0x00007FF732AEA649+718233]\n\t(No symbol) [0x00007FF7329C4A3F]\n\t(No symbol) [0x00007FF7329BFA94]\n\t(No symbol) [0x00007FF7329BFBC2]\n\t(No symbol) [0x00007FF7329AF2E4]\n\tBaseThreadInitThunk [0x00007FFD8B237344+20]\n\tRtlUserThreadStart [0x00007FFD8BAC26B1+33]\n",
     "output_type": "error",
     "traceback": [
      "\u001b[1;31m---------------------------------------------------------------------------\u001b[0m",
      "\u001b[1;31mWebDriverException\u001b[0m                        Traceback (most recent call last)",
      "Cell \u001b[1;32mIn[80], line 2\u001b[0m\n\u001b[0;32m      1\u001b[0m \u001b[38;5;28;01mfor\u001b[39;00m url \u001b[38;5;129;01min\u001b[39;00m product_urls:\n\u001b[1;32m----> 2\u001b[0m     \u001b[43mdriver\u001b[49m\u001b[38;5;241;43m.\u001b[39;49m\u001b[43mget\u001b[49m\u001b[43m(\u001b[49m\u001b[43murl\u001b[49m\u001b[43m)\u001b[49m\n\u001b[0;32m      3\u001b[0m     time\u001b[38;5;241m.\u001b[39msleep(\u001b[38;5;241m2\u001b[39m)\n\u001b[0;32m      5\u001b[0m     \u001b[38;5;28;01mtry\u001b[39;00m:\n",
      "File \u001b[1;32m~\\anaconda3\\lib\\site-packages\\selenium\\webdriver\\remote\\webdriver.py:356\u001b[0m, in \u001b[0;36mWebDriver.get\u001b[1;34m(self, url)\u001b[0m\n\u001b[0;32m    354\u001b[0m \u001b[38;5;28;01mdef\u001b[39;00m \u001b[38;5;21mget\u001b[39m(\u001b[38;5;28mself\u001b[39m, url: \u001b[38;5;28mstr\u001b[39m) \u001b[38;5;241m-\u001b[39m\u001b[38;5;241m>\u001b[39m \u001b[38;5;28;01mNone\u001b[39;00m:\n\u001b[0;32m    355\u001b[0m     \u001b[38;5;124;03m\"\"\"Loads a web page in the current browser session.\"\"\"\u001b[39;00m\n\u001b[1;32m--> 356\u001b[0m     \u001b[38;5;28;43mself\u001b[39;49m\u001b[38;5;241;43m.\u001b[39;49m\u001b[43mexecute\u001b[49m\u001b[43m(\u001b[49m\u001b[43mCommand\u001b[49m\u001b[38;5;241;43m.\u001b[39;49m\u001b[43mGET\u001b[49m\u001b[43m,\u001b[49m\u001b[43m \u001b[49m\u001b[43m{\u001b[49m\u001b[38;5;124;43m\"\u001b[39;49m\u001b[38;5;124;43murl\u001b[39;49m\u001b[38;5;124;43m\"\u001b[39;49m\u001b[43m:\u001b[49m\u001b[43m \u001b[49m\u001b[43murl\u001b[49m\u001b[43m}\u001b[49m\u001b[43m)\u001b[49m\n",
      "File \u001b[1;32m~\\anaconda3\\lib\\site-packages\\selenium\\webdriver\\remote\\webdriver.py:347\u001b[0m, in \u001b[0;36mWebDriver.execute\u001b[1;34m(self, driver_command, params)\u001b[0m\n\u001b[0;32m    345\u001b[0m response \u001b[38;5;241m=\u001b[39m \u001b[38;5;28mself\u001b[39m\u001b[38;5;241m.\u001b[39mcommand_executor\u001b[38;5;241m.\u001b[39mexecute(driver_command, params)\n\u001b[0;32m    346\u001b[0m \u001b[38;5;28;01mif\u001b[39;00m response:\n\u001b[1;32m--> 347\u001b[0m     \u001b[38;5;28;43mself\u001b[39;49m\u001b[38;5;241;43m.\u001b[39;49m\u001b[43merror_handler\u001b[49m\u001b[38;5;241;43m.\u001b[39;49m\u001b[43mcheck_response\u001b[49m\u001b[43m(\u001b[49m\u001b[43mresponse\u001b[49m\u001b[43m)\u001b[49m\n\u001b[0;32m    348\u001b[0m     response[\u001b[38;5;124m\"\u001b[39m\u001b[38;5;124mvalue\u001b[39m\u001b[38;5;124m\"\u001b[39m] \u001b[38;5;241m=\u001b[39m \u001b[38;5;28mself\u001b[39m\u001b[38;5;241m.\u001b[39m_unwrap_value(response\u001b[38;5;241m.\u001b[39mget(\u001b[38;5;124m\"\u001b[39m\u001b[38;5;124mvalue\u001b[39m\u001b[38;5;124m\"\u001b[39m, \u001b[38;5;28;01mNone\u001b[39;00m))\n\u001b[0;32m    349\u001b[0m     \u001b[38;5;28;01mreturn\u001b[39;00m response\n",
      "File \u001b[1;32m~\\anaconda3\\lib\\site-packages\\selenium\\webdriver\\remote\\errorhandler.py:229\u001b[0m, in \u001b[0;36mErrorHandler.check_response\u001b[1;34m(self, response)\u001b[0m\n\u001b[0;32m    227\u001b[0m         alert_text \u001b[38;5;241m=\u001b[39m value[\u001b[38;5;124m\"\u001b[39m\u001b[38;5;124malert\u001b[39m\u001b[38;5;124m\"\u001b[39m]\u001b[38;5;241m.\u001b[39mget(\u001b[38;5;124m\"\u001b[39m\u001b[38;5;124mtext\u001b[39m\u001b[38;5;124m\"\u001b[39m)\n\u001b[0;32m    228\u001b[0m     \u001b[38;5;28;01mraise\u001b[39;00m exception_class(message, screen, stacktrace, alert_text)  \u001b[38;5;66;03m# type: ignore[call-arg]  # mypy is not smart enough here\u001b[39;00m\n\u001b[1;32m--> 229\u001b[0m \u001b[38;5;28;01mraise\u001b[39;00m exception_class(message, screen, stacktrace)\n",
      "\u001b[1;31mWebDriverException\u001b[0m: Message: unknown error: unsupported protocol\n  (Session info: chrome=121.0.6167.187)\nStacktrace:\n\tGetHandleVerifier [0x00007FF732D97012+3522402]\n\t(No symbol) [0x00007FF7329B8352]\n\t(No symbol) [0x00007FF732865ABB]\n\t(No symbol) [0x00007FF73286805E]\n\t(No symbol) [0x00007FF7328EC717]\n\t(No symbol) [0x00007FF7328CF05A]\n\t(No symbol) [0x00007FF7328EBDA3]\n\t(No symbol) [0x00007FF7328CEE03]\n\t(No symbol) [0x00007FF73289F4D4]\n\t(No symbol) [0x00007FF7328A05F1]\n\tGetHandleVerifier [0x00007FF732DC9B9D+3730157]\n\tGetHandleVerifier [0x00007FF732E1F02D+4079485]\n\tGetHandleVerifier [0x00007FF732E175D3+4048163]\n\tGetHandleVerifier [0x00007FF732AEA649+718233]\n\t(No symbol) [0x00007FF7329C4A3F]\n\t(No symbol) [0x00007FF7329BFA94]\n\t(No symbol) [0x00007FF7329BFBC2]\n\t(No symbol) [0x00007FF7329AF2E4]\n\tBaseThreadInitThunk [0x00007FFD8B237344+20]\n\tRtlUserThreadStart [0x00007FFD8BAC26B1+33]\n"
     ]
    }
   ],
   "source": [
    "for url in product_urls:\n",
    "    driver.get(url)\n",
    "    time.sleep(2)\n",
    "    \n",
    "    try:\n",
    "        name = driver.find_element(By.XPATH,\"//span[@id='productTitle']\")\n",
    "        product_names.append(name.text)\n",
    "    except NoSuchElementException:\n",
    "        product_names.append('-')\n",
    "        \n",
    "    try:\n",
    "        brand = driver.find_element(By.XPATH,\"//a[@id='bylineInfo']\")\n",
    "        brand_names.append(brand.text)\n",
    "    except NoSuchElementException:\n",
    "        brand_names.append('-')\n",
    "        \n",
    "    try:\n",
    "        rats = driver.find_element(By.XPATH,\"//span[@class='a-size-base a-nowrap']\")\n",
    "        ratings.append(rats.text)\n",
    "    except NoSuchElementException:\n",
    "        ratings.append('-')\n",
    "        \n",
    "    try:\n",
    "        n_r = driver.find_element(By.XPATH,\"//span[@id='acrCustomerReviewText']\")\n",
    "        no_ratings.append(n_r.text)\n",
    "    except NoSuchElementException:\n",
    "        no_ratings.append('-')\n",
    "        \n",
    "    try:\n",
    "        price = driver.find_element(By.XPATH,\"//span[@id='priceblock_ourprice']\")\n",
    "        prices.append(price.text)\n",
    "    except NoSuchElementException:\n",
    "        prices.append('-')\n",
    "        \n",
    "    try:\n",
    "        excs = driver.find_elements(By.XPATH,\"//div[@class='a-section a-spacing-none icon-content']\")\n",
    "        try: \n",
    "            exchanges.append(excs[1].text)\n",
    "        except:\n",
    "            continue\n",
    "    except NoSuchElementException:\n",
    "        exchanges.append('-')\n",
    "        \n",
    "    try:\n",
    "        dels = driver.find_element(By.XPATH,\"//div[@id='ddmDeliveryMessage']/b\")\n",
    "        del_dates.append(dels.text)\n",
    "    except NoSuchElementException:\n",
    "        del_dates.append('-')\n",
    "        \n",
    "    try:\n",
    "        ava = driver.find_element(By.XPATH,\"//span[@class='a-size-medium a-color-price'] | //span[@class='a-size-medium a-color-success'] \")\n",
    "        avails.append(ava.text)\n",
    "    except NoSuchElementException:\n",
    "        avails.append('-')\n",
    "        \n",
    "    try:\n",
    "        det = driver.find_element(By.XPATH,\"//div[@id='productDescription']\")\n",
    "        other_details.append(det.text)\n",
    "    except NoSuchElementException:\n",
    "        other_details.append('-')\n",
    "        \n",
    "    try:\n",
    "        links.append(link)\n",
    "    except:\n",
    "        links.append('-')\n",
    "        \n",
    "        "
   ]
  },
  {
   "cell_type": "code",
   "execution_count": 82,
   "id": "3ccd709f",
   "metadata": {},
   "outputs": [],
   "source": [
    "brand_names = [60]\n",
    "ratings = [60]\n",
    "prices = [60]\n",
    "exchanges = [60]\n",
    "\n",
    "Guitar = pd.DataFrame()"
   ]
  },
  {
   "cell_type": "code",
   "execution_count": 83,
   "id": "86185472",
   "metadata": {},
   "outputs": [
    {
     "name": "stdout",
     "output_type": "stream",
     "text": [
      "   Brand  Rating  Price  Exchange\n",
      "0     60      60     60        60\n"
     ]
    }
   ],
   "source": [
    "Guitar['Brand'] = brand_names\n",
    "Guitar['Rating'] = ratings\n",
    " \n",
    "Guitar['Price'] = prices\n",
    "Guitar['Exchange'] = exchanges\n",
    "\n",
    "print(Guitar)"
   ]
  },
  {
   "cell_type": "code",
   "execution_count": 84,
   "id": "92829f55",
   "metadata": {},
   "outputs": [],
   "source": [
    "driver.close()"
   ]
  },
  {
   "cell_type": "code",
   "execution_count": 85,
   "id": "a759f242",
   "metadata": {},
   "outputs": [],
   "source": [
    "driver=webdriver.Chrome"
   ]
  },
  {
   "cell_type": "code",
   "execution_count": 86,
   "id": "9bc20c4b",
   "metadata": {},
   "outputs": [
    {
     "name": "stdout",
     "output_type": "stream",
     "text": [
      "enter your item:cake\n"
     ]
    }
   ],
   "source": [
    "val=input(\"enter your item:\")"
   ]
  },
  {
   "cell_type": "code",
   "execution_count": 89,
   "id": "d9fc379a",
   "metadata": {},
   "outputs": [],
   "source": [
    "driver=webdriver.Chrome()\n",
    "driver.get(\"https:/google.in/\")"
   ]
  },
  {
   "cell_type": "code",
   "execution_count": 92,
   "id": "40c7939b",
   "metadata": {},
   "outputs": [
    {
     "ename": "NoSuchElementException",
     "evalue": "Message: no such element: Unable to locate element: {\"method\":\"xpath\",\"selector\":\"//input[@class='gLFyf gsfi']\"}\n  (Session info: chrome=121.0.6167.189); For documentation on this error, please visit: https://www.selenium.dev/documentation/webdriver/troubleshooting/errors#no-such-element-exception\nStacktrace:\n\tGetHandleVerifier [0x00007FF732D97012+3522402]\n\t(No symbol) [0x00007FF7329B8352]\n\t(No symbol) [0x00007FF732865ABB]\n\t(No symbol) [0x00007FF7328ABF0E]\n\t(No symbol) [0x00007FF7328AC08C]\n\t(No symbol) [0x00007FF7328EE437]\n\t(No symbol) [0x00007FF7328CF09F]\n\t(No symbol) [0x00007FF7328EBDA3]\n\t(No symbol) [0x00007FF7328CEE03]\n\t(No symbol) [0x00007FF73289F4D4]\n\t(No symbol) [0x00007FF7328A05F1]\n\tGetHandleVerifier [0x00007FF732DC9B9D+3730157]\n\tGetHandleVerifier [0x00007FF732E1F02D+4079485]\n\tGetHandleVerifier [0x00007FF732E175D3+4048163]\n\tGetHandleVerifier [0x00007FF732AEA649+718233]\n\t(No symbol) [0x00007FF7329C4A3F]\n\t(No symbol) [0x00007FF7329BFA94]\n\t(No symbol) [0x00007FF7329BFBC2]\n\t(No symbol) [0x00007FF7329AF2E4]\n\tBaseThreadInitThunk [0x00007FFD8B237344+20]\n\tRtlUserThreadStart [0x00007FFD8BAC26B1+33]\n",
     "output_type": "error",
     "traceback": [
      "\u001b[1;31m---------------------------------------------------------------------------\u001b[0m",
      "\u001b[1;31mNoSuchElementException\u001b[0m                    Traceback (most recent call last)",
      "Cell \u001b[1;32mIn[92], line 1\u001b[0m\n\u001b[1;32m----> 1\u001b[0m search_bar\u001b[38;5;241m=\u001b[39m\u001b[43mdriver\u001b[49m\u001b[38;5;241;43m.\u001b[39;49m\u001b[43mfind_element\u001b[49m\u001b[43m(\u001b[49m\u001b[43mBy\u001b[49m\u001b[38;5;241;43m.\u001b[39;49m\u001b[43mXPATH\u001b[49m\u001b[43m,\u001b[49m\u001b[38;5;124;43m\"\u001b[39;49m\u001b[38;5;124;43m//input[@class=\u001b[39;49m\u001b[38;5;124;43m'\u001b[39;49m\u001b[38;5;124;43mgLFyf gsfi\u001b[39;49m\u001b[38;5;124;43m'\u001b[39;49m\u001b[38;5;124;43m]\u001b[39;49m\u001b[38;5;124;43m\"\u001b[39;49m\u001b[43m)\u001b[49m\n\u001b[0;32m      2\u001b[0m search_bar\u001b[38;5;241m.\u001b[39msend_keys(keywords)\n\u001b[0;32m      3\u001b[0m button\u001b[38;5;241m=\u001b[39mdriver\u001b[38;5;241m.\u001b[39mfind_element(By\u001b[38;5;241m.\u001b[39mXPATH,\u001b[38;5;124m\"\u001b[39m\u001b[38;5;124m//button[@class=\u001b[39m\u001b[38;5;124m'\u001b[39m\u001b[38;5;124mTg7LZd\u001b[39m\u001b[38;5;124m'\u001b[39m\u001b[38;5;124m]\u001b[39m\u001b[38;5;124m\"\u001b[39m)\n",
      "File \u001b[1;32m~\\anaconda3\\lib\\site-packages\\selenium\\webdriver\\remote\\webdriver.py:741\u001b[0m, in \u001b[0;36mWebDriver.find_element\u001b[1;34m(self, by, value)\u001b[0m\n\u001b[0;32m    738\u001b[0m     by \u001b[38;5;241m=\u001b[39m By\u001b[38;5;241m.\u001b[39mCSS_SELECTOR\n\u001b[0;32m    739\u001b[0m     value \u001b[38;5;241m=\u001b[39m \u001b[38;5;124mf\u001b[39m\u001b[38;5;124m'\u001b[39m\u001b[38;5;124m[name=\u001b[39m\u001b[38;5;124m\"\u001b[39m\u001b[38;5;132;01m{\u001b[39;00mvalue\u001b[38;5;132;01m}\u001b[39;00m\u001b[38;5;124m\"\u001b[39m\u001b[38;5;124m]\u001b[39m\u001b[38;5;124m'\u001b[39m\n\u001b[1;32m--> 741\u001b[0m \u001b[38;5;28;01mreturn\u001b[39;00m \u001b[38;5;28;43mself\u001b[39;49m\u001b[38;5;241;43m.\u001b[39;49m\u001b[43mexecute\u001b[49m\u001b[43m(\u001b[49m\u001b[43mCommand\u001b[49m\u001b[38;5;241;43m.\u001b[39;49m\u001b[43mFIND_ELEMENT\u001b[49m\u001b[43m,\u001b[49m\u001b[43m \u001b[49m\u001b[43m{\u001b[49m\u001b[38;5;124;43m\"\u001b[39;49m\u001b[38;5;124;43musing\u001b[39;49m\u001b[38;5;124;43m\"\u001b[39;49m\u001b[43m:\u001b[49m\u001b[43m \u001b[49m\u001b[43mby\u001b[49m\u001b[43m,\u001b[49m\u001b[43m \u001b[49m\u001b[38;5;124;43m\"\u001b[39;49m\u001b[38;5;124;43mvalue\u001b[39;49m\u001b[38;5;124;43m\"\u001b[39;49m\u001b[43m:\u001b[49m\u001b[43m \u001b[49m\u001b[43mvalue\u001b[49m\u001b[43m}\u001b[49m\u001b[43m)\u001b[49m[\u001b[38;5;124m\"\u001b[39m\u001b[38;5;124mvalue\u001b[39m\u001b[38;5;124m\"\u001b[39m]\n",
      "File \u001b[1;32m~\\anaconda3\\lib\\site-packages\\selenium\\webdriver\\remote\\webdriver.py:347\u001b[0m, in \u001b[0;36mWebDriver.execute\u001b[1;34m(self, driver_command, params)\u001b[0m\n\u001b[0;32m    345\u001b[0m response \u001b[38;5;241m=\u001b[39m \u001b[38;5;28mself\u001b[39m\u001b[38;5;241m.\u001b[39mcommand_executor\u001b[38;5;241m.\u001b[39mexecute(driver_command, params)\n\u001b[0;32m    346\u001b[0m \u001b[38;5;28;01mif\u001b[39;00m response:\n\u001b[1;32m--> 347\u001b[0m     \u001b[38;5;28;43mself\u001b[39;49m\u001b[38;5;241;43m.\u001b[39;49m\u001b[43merror_handler\u001b[49m\u001b[38;5;241;43m.\u001b[39;49m\u001b[43mcheck_response\u001b[49m\u001b[43m(\u001b[49m\u001b[43mresponse\u001b[49m\u001b[43m)\u001b[49m\n\u001b[0;32m    348\u001b[0m     response[\u001b[38;5;124m\"\u001b[39m\u001b[38;5;124mvalue\u001b[39m\u001b[38;5;124m\"\u001b[39m] \u001b[38;5;241m=\u001b[39m \u001b[38;5;28mself\u001b[39m\u001b[38;5;241m.\u001b[39m_unwrap_value(response\u001b[38;5;241m.\u001b[39mget(\u001b[38;5;124m\"\u001b[39m\u001b[38;5;124mvalue\u001b[39m\u001b[38;5;124m\"\u001b[39m, \u001b[38;5;28;01mNone\u001b[39;00m))\n\u001b[0;32m    349\u001b[0m     \u001b[38;5;28;01mreturn\u001b[39;00m response\n",
      "File \u001b[1;32m~\\anaconda3\\lib\\site-packages\\selenium\\webdriver\\remote\\errorhandler.py:229\u001b[0m, in \u001b[0;36mErrorHandler.check_response\u001b[1;34m(self, response)\u001b[0m\n\u001b[0;32m    227\u001b[0m         alert_text \u001b[38;5;241m=\u001b[39m value[\u001b[38;5;124m\"\u001b[39m\u001b[38;5;124malert\u001b[39m\u001b[38;5;124m\"\u001b[39m]\u001b[38;5;241m.\u001b[39mget(\u001b[38;5;124m\"\u001b[39m\u001b[38;5;124mtext\u001b[39m\u001b[38;5;124m\"\u001b[39m)\n\u001b[0;32m    228\u001b[0m     \u001b[38;5;28;01mraise\u001b[39;00m exception_class(message, screen, stacktrace, alert_text)  \u001b[38;5;66;03m# type: ignore[call-arg]  # mypy is not smart enough here\u001b[39;00m\n\u001b[1;32m--> 229\u001b[0m \u001b[38;5;28;01mraise\u001b[39;00m exception_class(message, screen, stacktrace)\n",
      "\u001b[1;31mNoSuchElementException\u001b[0m: Message: no such element: Unable to locate element: {\"method\":\"xpath\",\"selector\":\"//input[@class='gLFyf gsfi']\"}\n  (Session info: chrome=121.0.6167.189); For documentation on this error, please visit: https://www.selenium.dev/documentation/webdriver/troubleshooting/errors#no-such-element-exception\nStacktrace:\n\tGetHandleVerifier [0x00007FF732D97012+3522402]\n\t(No symbol) [0x00007FF7329B8352]\n\t(No symbol) [0x00007FF732865ABB]\n\t(No symbol) [0x00007FF7328ABF0E]\n\t(No symbol) [0x00007FF7328AC08C]\n\t(No symbol) [0x00007FF7328EE437]\n\t(No symbol) [0x00007FF7328CF09F]\n\t(No symbol) [0x00007FF7328EBDA3]\n\t(No symbol) [0x00007FF7328CEE03]\n\t(No symbol) [0x00007FF73289F4D4]\n\t(No symbol) [0x00007FF7328A05F1]\n\tGetHandleVerifier [0x00007FF732DC9B9D+3730157]\n\tGetHandleVerifier [0x00007FF732E1F02D+4079485]\n\tGetHandleVerifier [0x00007FF732E175D3+4048163]\n\tGetHandleVerifier [0x00007FF732AEA649+718233]\n\t(No symbol) [0x00007FF7329C4A3F]\n\t(No symbol) [0x00007FF7329BFA94]\n\t(No symbol) [0x00007FF7329BFBC2]\n\t(No symbol) [0x00007FF7329AF2E4]\n\tBaseThreadInitThunk [0x00007FFD8B237344+20]\n\tRtlUserThreadStart [0x00007FFD8BAC26B1+33]\n"
     ]
    }
   ],
   "source": [
    "search_bar=driver.find_element(By.XPATH,\"//input[@class='gLFyf gsfi']\")\n",
    "search_bar.send_keys(keywords)\n",
    "button=driver.find_element(By.XPATH,\"//button[@class='Tg7LZd']\")\n",
    "button.click()\n",
    "time.sleep(2)\n",
    "        "
   ]
  },
  {
   "cell_type": "code",
   "execution_count": 98,
   "id": "60a796a9",
   "metadata": {},
   "outputs": [
    {
     "ename": "NameError",
     "evalue": "name 'images_url' is not defined",
     "output_type": "error",
     "traceback": [
      "\u001b[1;31m---------------------------------------------------------------------------\u001b[0m",
      "\u001b[1;31mNameError\u001b[0m                                 Traceback (most recent call last)",
      "Cell \u001b[1;32mIn[98], line 5\u001b[0m\n\u001b[0;32m      2\u001b[0m             driver\u001b[38;5;241m.\u001b[39mexecute_script(\u001b[38;5;124m\"\u001b[39m\u001b[38;5;124mwindow.scrollBy(0, 500)\u001b[39m\u001b[38;5;124m\"\u001b[39m)\n\u001b[0;32m      3\u001b[0m images \u001b[38;5;241m=\u001b[39m driver\u001b[38;5;241m.\u001b[39mfind_elements(By\u001b[38;5;241m.\u001b[39mXPATH,\u001b[38;5;124m'\u001b[39m\u001b[38;5;124m//img[@class=\u001b[39m\u001b[38;5;124m\"\u001b[39m\u001b[38;5;124mrg_i Q4LuWd\u001b[39m\u001b[38;5;124m\"\u001b[39m\u001b[38;5;124m]\u001b[39m\u001b[38;5;124m'\u001b[39m)\n\u001b[1;32m----> 5\u001b[0m \u001b[43mimages_url\u001b[49m\n\u001b[0;32m      7\u001b[0m \u001b[38;5;28;01mfor\u001b[39;00m image \u001b[38;5;129;01min\u001b[39;00m images:\n\u001b[0;32m      8\u001b[0m     source\u001b[38;5;241m=\u001b[39mimages\u001b[38;5;241m.\u001b[39mget_attribute(\u001b[38;5;124m'\u001b[39m\u001b[38;5;124msrc\u001b[39m\u001b[38;5;124m'\u001b[39m)\n",
      "\u001b[1;31mNameError\u001b[0m: name 'images_url' is not defined"
     ]
    }
   ],
   "source": [
    "for k in range(20):\n",
    "            driver.execute_script(\"window.scrollBy(0, 500)\")\n",
    "images = driver.find_elements(By.XPATH,'//img[@class=\"rg_i Q4LuWd\"]')\n",
    "\n",
    "images_url\n",
    "\n",
    "for image in images:\n",
    "    source=images.get_attribute('src')\n",
    "    if source is not None:\n",
    "        if(source[0:4] == 'http'):\n",
    "            img_urls.append(source)\n",
    "            \n",
    "for i in range (len(img_urls)):\n",
    "    if i > 10:\n",
    "        breakBy.XPATH,\n",
    "        print(\"Downloading{0} of {1} images\" .format(i,10))\n",
    "        respones=requests.get(img_urls[i])\n",
    "        file = open(r\"C:\\User\\Lenove\\Desktop\\Fliprobo\"+str(i)+\".jpg\",\"wb\")\n",
    "        file.write(response.content)\n",
    "        "
   ]
  },
  {
   "cell_type": "code",
   "execution_count": 99,
   "id": "687b064b",
   "metadata": {},
   "outputs": [
    {
     "ename": "NameError",
     "evalue": "name 'get_urls' is not defined",
     "output_type": "error",
     "traceback": [
      "\u001b[1;31m---------------------------------------------------------------------------\u001b[0m",
      "\u001b[1;31mNameError\u001b[0m                                 Traceback (most recent call last)",
      "Cell \u001b[1;32mIn[99], line 1\u001b[0m\n\u001b[1;32m----> 1\u001b[0m cake\u001b[38;5;241m=\u001b[39m\u001b[43mget_urls\u001b[49m(\u001b[38;5;124m'\u001b[39m\u001b[38;5;124mFruits\u001b[39m\u001b[38;5;124m'\u001b[39m)\n",
      "\u001b[1;31mNameError\u001b[0m: name 'get_urls' is not defined"
     ]
    }
   ],
   "source": [
    "cake=get_urls('Fruits')\n"
   ]
  },
  {
   "cell_type": "code",
   "execution_count": 100,
   "id": "8e9f66a6",
   "metadata": {},
   "outputs": [],
   "source": [
    "driver.close()"
   ]
  },
  {
   "cell_type": "code",
   "execution_count": null,
   "id": "1e5bce69",
   "metadata": {},
   "outputs": [],
   "source": []
  }
 ],
 "metadata": {
  "kernelspec": {
   "display_name": "Python 3 (ipykernel)",
   "language": "python",
   "name": "python3"
  },
  "language_info": {
   "codemirror_mode": {
    "name": "ipython",
    "version": 3
   },
   "file_extension": ".py",
   "mimetype": "text/x-python",
   "name": "python",
   "nbconvert_exporter": "python",
   "pygments_lexer": "ipython3",
   "version": "3.10.9"
  }
 },
 "nbformat": 4,
 "nbformat_minor": 5
}
